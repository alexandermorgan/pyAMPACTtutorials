{
  "nbformat": 4,
  "nbformat_minor": 0,
  "metadata": {
    "colab": {
      "provenance": [],
      "authorship_tag": "ABX9TyPVglhH5hqELdNRgBVYELLv",
      "include_colab_link": true
    },
    "kernelspec": {
      "name": "python3",
      "display_name": "Python 3"
    },
    "language_info": {
      "name": "python"
    }
  },
  "cells": [
    {
      "cell_type": "markdown",
      "metadata": {
        "id": "view-in-github",
        "colab_type": "text"
      },
      "source": [
        "<a href=\"https://colab.research.google.com/github/jcdevaney/pyAMPACTtutorials/blob/main/03_pyAMPACT_alignment_Performance.ipynb\" target=\"_parent\"><img src=\"https://colab.research.google.com/assets/colab-badge.svg\" alt=\"Open In Colab\"/></a>"
      ]
    },
    {
      "cell_type": "markdown",
      "source": [
        "<h1>pyAMPACT Performance Data Functions</h1>"
      ],
      "metadata": {
        "id": "qEMh3qjCeHvr"
      }
    },
    {
      "cell_type": "code",
      "execution_count": 1,
      "metadata": {
        "colab": {
          "base_uri": "https://localhost:8080/"
        },
        "id": "gd_p93OXdjr4",
        "outputId": "61db5829-f7fe-4ba3-d410-6c07c848d87d"
      },
      "outputs": [
        {
          "output_type": "stream",
          "name": "stdout",
          "text": [
            "Cloning into 'pyAMPACTtutorials'...\n",
            "remote: Enumerating objects: 263, done.\u001b[K\n",
            "remote: Counting objects: 100% (86/86), done.\u001b[K\n",
            "remote: Compressing objects: 100% (72/72), done.\u001b[K\n",
            "remote: Total 263 (delta 58), reused 17 (delta 14), pack-reused 177\u001b[K\n",
            "Receiving objects: 100% (263/263), 17.37 MiB | 20.40 MiB/s, done.\n",
            "Resolving deltas: 100% (119/119), done.\n",
            "Importing libraries...\n"
          ]
        }
      ],
      "source": [
        "!git clone https://github.com/jcdevaney/pyAMPACTtutorials.git\n",
        "from IPython.utils import io\n",
        "print('Importing libraries...')\n",
        "with io.capture_output() as captured:\n",
        "    !pip install --upgrade pandas\n",
        "    !pip install -i https://test.pypi.org/simple/ --no-deps pyampact==0.4.6\n",
        "    import pyampact\n",
        "import pandas as pd\n",
        "import numpy as np\n",
        "import librosa"
      ]
    },
    {
      "cell_type": "markdown",
      "source": [
        "Import and align symbolic and audio files (see 01-pyAMPACT_introduction.ipynb for details)"
      ],
      "metadata": {
        "id": "C7JwtEeJ2saE"
      }
    },
    {
      "cell_type": "code",
      "source": [
        "audio_file = '/content/pyAMPACTtutorials/test_files/Mozart_K179_seg.wav'\n",
        "midi_file = '/content/pyAMPACTtutorials/test_files/Mozart_K179_seg.krn'\n",
        "\n",
        "y, original_sr = librosa.load(audio_file)\n",
        "\n",
        "piece = pyampact.Score(midi_file)\n",
        "\n",
        "means = pd.read_csv('/content/pyAMPACTtutorials/test_files/means.csv', sep=' ').values\n",
        "covars = pd.read_csv('/content/pyAMPACTtutorials/test_files/covars.csv', sep=' ').values\n",
        "\n",
        "target_sr = 4000\n",
        "win_ms = 100\n",
        "hop_length = 32\n",
        "width = 3\n",
        "n_harm = 3\n",
        "\n",
        "res, dtw, spec, nmat = pyampact.run_alignment(\n",
        "    y, original_sr, piece, means, covars, piece.nmats(), width, target_sr, n_harm, win_ms, hop_length)"
      ],
      "metadata": {
        "colab": {
          "base_uri": "https://localhost:8080/"
        },
        "id": "CHkCzvE6dmvM",
        "outputId": "da33e479-3a77-4420-fc7d-ad9ceaca053a"
      },
      "execution_count": 4,
      "outputs": [
        {
          "output_type": "stream",
          "name": "stdout",
          "text": [
            "\n",
            "\tDetected and imported these spine types:\n",
            "\t\t function harm \n",
            "\n"
          ]
        },
        {
          "output_type": "stream",
          "name": "stderr",
          "text": [
            "/usr/local/lib/python3.10/dist-packages/pyampact/alignmentUtils.py:452: ComplexWarning: Casting complex values to real discards the imaginary part\n",
            "  S[r, :] = np.sqrt(M[:, r] @ D) / nDc\n"
          ]
        }
      ]
    },
    {
      "cell_type": "code",
      "source": [
        "# Calculate an instananeous frequency-gram of the audio signal\n",
        "freqs, times, mags, f0_values, mags_mat = pyampact.ifgram(audiofile=audio_file, tsr=target_sr, win_ms=win_ms)\n",
        "mags_db = librosa.amplitude_to_db(mags, ref=np.max)\n",
        "\n",
        "# Estimate F0 values\n",
        "f0_values, sig_pwr = pyampact.calculate_f0_est(audio_file, hop_length, win_ms, target_sr)\n",
        "sig_pwr = mags ** 2 # power of signal, magnitude/amplitude squared\n",
        "\n",
        "# Prune NaN and zero values from estimated F0 and power\n",
        "f0_values = f0_values[~np.isnan(f0_values)]\n",
        "sig_pwr = sig_pwr[sig_pwr != 0]\n",
        "\n",
        "# pyampact.data_compilation(f0_values, sig_pwr, mags_mat, nmat, target_sr, hop_length, audio_file, y)"
      ],
      "metadata": {
        "id": "2OgqZl2y3lGO"
      },
      "execution_count": 5,
      "outputs": []
    }
  ]
}