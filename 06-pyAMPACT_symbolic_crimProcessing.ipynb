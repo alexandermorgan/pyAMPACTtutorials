{
  "cells": [
    {
      "cell_type": "markdown",
      "metadata": {
        "id": "view-in-github",
        "colab_type": "text"
      },
      "source": [
        "<a href=\"https://colab.research.google.com/github/jcdevaney/pyAMPACTtutorials/blob/main/06-pyAMPACT_symbolic_crimProcessing.ipynb\" target=\"_parent\"><img src=\"https://colab.research.google.com/assets/colab-badge.svg\" alt=\"Open In Colab\"/></a>"
      ]
    },
    {
      "cell_type": "markdown",
      "id": "73f2e76a-6c49-4510-ae5b-349e44aa5ba6",
      "metadata": {
        "id": "73f2e76a-6c49-4510-ae5b-349e44aa5ba6"
      },
      "source": [
        "<h1>Symbolic Processing with CRIM</h1>"
      ]
    },
    {
      "cell_type": "code",
      "execution_count": 1,
      "id": "d98b2f8e-41b3-4ca9-be45-fdd4d1432290",
      "metadata": {
        "id": "d98b2f8e-41b3-4ca9-be45-fdd4d1432290",
        "colab": {
          "base_uri": "https://localhost:8080/",
          "height": 488
        },
        "outputId": "98268944-cc26-4bdf-8d8c-bd6d0c2f34f4"
      },
      "outputs": [
        {
          "output_type": "stream",
          "name": "stdout",
          "text": [
            "Cloning into 'pyAMPACTtutorials'...\n",
            "remote: Enumerating objects: 131, done.\u001b[K\n",
            "remote: Counting objects: 100% (131/131), done.\u001b[K\n",
            "remote: Compressing objects: 100% (113/113), done.\u001b[K\n",
            "remote: Total 131 (delta 44), reused 78 (delta 11), pack-reused 0\u001b[K\n",
            "Receiving objects: 100% (131/131), 16.64 MiB | 21.90 MiB/s, done.\n",
            "Resolving deltas: 100% (44/44), done.\n",
            "Importing libraries...\n"
          ]
        },
        {
          "output_type": "error",
          "ename": "ModuleNotFoundError",
          "evalue": "No module named 'crim_intervals'",
          "traceback": [
            "\u001b[0;31m---------------------------------------------------------------------------\u001b[0m",
            "\u001b[0;31mModuleNotFoundError\u001b[0m                       Traceback (most recent call last)",
            "\u001b[0;32m<ipython-input-1-a49606f2f36d>\u001b[0m in \u001b[0;36m<cell line: 4>\u001b[0;34m()\u001b[0m\n\u001b[1;32m      7\u001b[0m     \u001b[0mget_ipython\u001b[0m\u001b[0;34m(\u001b[0m\u001b[0;34m)\u001b[0m\u001b[0;34m.\u001b[0m\u001b[0msystem\u001b[0m\u001b[0;34m(\u001b[0m\u001b[0;34m'pip install -i https://test.pypi.org/simple/ --no-deps pyampact==0.3.1'\u001b[0m\u001b[0;34m)\u001b[0m\u001b[0;34m\u001b[0m\u001b[0;34m\u001b[0m\u001b[0m\n\u001b[1;32m      8\u001b[0m     \u001b[0;32mimport\u001b[0m \u001b[0mpyampact\u001b[0m\u001b[0;34m\u001b[0m\u001b[0;34m\u001b[0m\u001b[0m\n\u001b[0;32m----> 9\u001b[0;31m     \u001b[0;32mimport\u001b[0m \u001b[0mcrim_intervals\u001b[0m \u001b[0;32mas\u001b[0m \u001b[0mcrim\u001b[0m\u001b[0;34m\u001b[0m\u001b[0;34m\u001b[0m\u001b[0m\n\u001b[0m",
            "\u001b[0;31mModuleNotFoundError\u001b[0m: No module named 'crim_intervals'",
            "",
            "\u001b[0;31m---------------------------------------------------------------------------\u001b[0;32m\nNOTE: If your import is failing due to a missing package, you can\nmanually install dependencies using either !pip or !apt.\n\nTo view examples of installing some common dependencies, click the\n\"Open Examples\" button below.\n\u001b[0;31m---------------------------------------------------------------------------\u001b[0m\n"
          ],
          "errorDetails": {
            "actions": [
              {
                "action": "open_url",
                "actionText": "Open Examples",
                "url": "/notebooks/snippets/importing_libraries.ipynb"
              }
            ]
          }
        }
      ],
      "source": [
        "!git clone https://github.com/jcdevaney/pyAMPACTtutorials.git\n",
        "from IPython.utils import io\n",
        "print('Importing libraries...')\n",
        "with io.capture_output() as captured:\n",
        "    !pip install --upgrade pandas\n",
        "    !pip install -r requirements.txt\n",
        "    !pip install -i https://test.pypi.org/simple/ --no-deps pyampact==0.3.1\n",
        "    import pyampact\n",
        "    import crim_intervals as crim"
      ]
    },
    {
      "cell_type": "markdown",
      "id": "ce85a2b1-ad7f-4feb-92ae-f3fc5c024b1f",
      "metadata": {
        "id": "ce85a2b1-ad7f-4feb-92ae-f3fc5c024b1f"
      },
      "source": [
        "<h2>Import a piece via pyAMPACT and CRIM</h2>\n",
        "\n",
        "For some reason CRIM isn't able to import these local files in this setup, so import via url for CRIM. Url importing also works for pyAMPACT if you want to do them the same way."
      ]
    },
    {
      "cell_type": "code",
      "execution_count": 2,
      "id": "fc75c633-7eba-4bea-94fe-554379824756",
      "metadata": {
        "id": "fc75c633-7eba-4bea-94fe-554379824756",
        "colab": {
          "base_uri": "https://localhost:8080/"
        },
        "outputId": "fb0b5933-a2ce-43e4-bdcd-68c6481264aa"
      },
      "outputs": [
        {
          "output_type": "stream",
          "name": "stdout",
          "text": [
            "\n",
            "\tDetected and imported these spine types:\n",
            "\t\t cdata-rdiss \n",
            "\n"
          ]
        }
      ],
      "source": [
        "pyamp_piece = pyampact.Score('/content/pyAMPACTtutorials/test_files/O_Virgo_Miserere.krn')\n",
        "\n",
        "# we can't import from a github that is linked one of our names\n",
        "#crim_piece = crim.main_objs.Crimport('')"
      ]
    },
    {
      "cell_type": "markdown",
      "id": "687810f9-b255-47a4-83fe-b917083b6463",
      "metadata": {
        "id": "687810f9-b255-47a4-83fe-b917083b6463"
      },
      "source": [
        "<h2>Do analysis in CRIM and use it in pyAMPACT</h2>\n",
        "\n",
        "Here we're going to use CRIM's Cadential Voice Function analysis, `.cvfs()`, and then convert this piece into an MEI file that contains these CVF annotations using pyAMPACT. Since CRIM and pyAMPACT use a similar format for a lot of their dataframes, you can just treat CRIM's CVF dataframe as if it's a pyAMPACT dataframe without any special treatment. What is needed is for the dataframe's index to be time-aligned and for the columnar index to be voice names. In the couple of cases, CRIM dataframes differ from this structure (for example `.cadences()` has different columns and `.presentationTypes()` has a different index and columns). You can still work with this CRIM data in pyAMPACT in these cases, they just require some basic restructuring of the CRIM dataframes first.\n",
        "<p>Once you run the next cell, an MEI file call \"pyAMPACT-CRIM_test.mei.xml\" will appear in the directory on the left at `pyAMPACT/output_files/pyAMPACT-CRIM_test.mei.xml`. It will be too big to view in colab, but if you double-click it you can download it.</p>"
      ]
    },
    {
      "cell_type": "code",
      "execution_count": 3,
      "id": "0a9ae3b4-5511-4668-8ba3-fd691a0c59f3",
      "metadata": {
        "id": "0a9ae3b4-5511-4668-8ba3-fd691a0c59f3",
        "outputId": "05e17650-31cc-4c74-a93f-efd69590d554",
        "colab": {
          "base_uri": "https://localhost:8080/",
          "height": 158
        }
      },
      "outputs": [
        {
          "output_type": "error",
          "ename": "NameError",
          "evalue": "name 'crim_piece' is not defined",
          "traceback": [
            "\u001b[0;31m---------------------------------------------------------------------------\u001b[0m",
            "\u001b[0;31mNameError\u001b[0m                                 Traceback (most recent call last)",
            "\u001b[0;32m<ipython-input-3-ced119f75326>\u001b[0m in \u001b[0;36m<cell line: 1>\u001b[0;34m()\u001b[0m\n\u001b[0;32m----> 1\u001b[0;31m \u001b[0mcvf_table\u001b[0m \u001b[0;34m=\u001b[0m \u001b[0mcrim_piece\u001b[0m\u001b[0;34m.\u001b[0m\u001b[0mcvfs\u001b[0m\u001b[0;34m(\u001b[0m\u001b[0;34m)\u001b[0m\u001b[0;34m\u001b[0m\u001b[0;34m\u001b[0m\u001b[0m\n\u001b[0m\u001b[1;32m      2\u001b[0m \u001b[0mpyamp_piece\u001b[0m\u001b[0;34m.\u001b[0m\u001b[0mtoMEI\u001b[0m\u001b[0;34m(\u001b[0m\u001b[0;34m'pyAMPACT-CRIM_test'\u001b[0m\u001b[0;34m,\u001b[0m \u001b[0;34m' '\u001b[0m\u001b[0;34m,\u001b[0m \u001b[0mdfs\u001b[0m\u001b[0;34m=\u001b[0m\u001b[0;34m{\u001b[0m\u001b[0;34m'CVF'\u001b[0m\u001b[0;34m:\u001b[0m \u001b[0mcvf_table\u001b[0m\u001b[0;34m}\u001b[0m\u001b[0;34m,\u001b[0m \u001b[0manalysis_tag\u001b[0m\u001b[0;34m=\u001b[0m\u001b[0;34m'harm'\u001b[0m\u001b[0;34m)\u001b[0m\u001b[0;34m\u001b[0m\u001b[0;34m\u001b[0m\u001b[0m\n",
            "\u001b[0;31mNameError\u001b[0m: name 'crim_piece' is not defined"
          ]
        }
      ],
      "source": [
        "cvf_table = crim_piece.cvfs()\n",
        "pyamp_piece.toMEI('pyAMPACT-CRIM_test', ' ', dfs={'CVF': cvf_table}, analysis_tag='harm')"
      ]
    },
    {
      "cell_type": "markdown",
      "id": "d948ca55-2723-4311-98d9-2065cd408ba3",
      "metadata": {
        "id": "d948ca55-2723-4311-98d9-2065cd408ba3"
      },
      "source": [
        "<h2>Create a link to an annotated excerpt</h2>\n",
        "\n",
        "pyAMPACT can also create links to short excerpts of pieces, with or without extra data. We do this in the .krn format for its character economy and extensibility, via the (Verovio Humdrum Viewer)[https://verovio.humdrum.org]. Let's look at the cadential voice functions used in the last cadence of this piece which is in the last two measures. Soon we'll have the ability to include annotations in .krn output too, and then these will optionally include the annotations. But for now, let's just look at the last two measures."
      ]
    },
    {
      "cell_type": "code",
      "execution_count": 4,
      "id": "00ea904a-eafa-431b-8575-584375c9b011",
      "metadata": {
        "id": "00ea904a-eafa-431b-8575-584375c9b011",
        "outputId": "a6c4af6b-a257-41b3-deb0-923dd6c9ad13",
        "colab": {
          "base_uri": "https://localhost:8080/"
        }
      },
      "outputs": [
        {
          "output_type": "stream",
          "name": "stdout",
          "text": [
            "https://verovio.humdrum.org/?t=ISEhQ09NOiBUaW5jdG9yaXMsIEpvaGFubmVzCiEhIU9UTDogTyB2aXJnbyBtaXNlcmVyZSBtZWkKKiprZXJuCSoqa2VybgkqKmtlcm4KKnBhcnQzCSpwYXJ0MgkqcGFydDEKKnN0YWZmMwkqc3RhZmYyCSpzdGFmZjEKKkl2b3gJKkl2b3gJKkl2b3gKKkkiUGFydC0zCSpJIlBhcnQtMgkqSSJWb2ljZQoqSSdQCSpJJ1AJKkknVgo9NDUJPTQ1CT00NQoxQUFdCTRlXQk0Y2NdCi4JNGQJNGIKLgkyYwkxYQoxRQkxQgkuCi4JLgkyZyMKPTQ2CT00Ngk9NDYKMEFBCTBBCTBhCj09CT09CT09CiotCSotCSotCiEhIVJERioqa2VybjogJT1yYXRpb25hbCByaHl0aG0KISEhUkRGKiprZXJuOiBsPWxvbmcgbm90ZSBpbiBvcmlnaW5hbCBub3RhdGlvbgohISFSREYqKmtlcm46IGk9ZWRpdG9yaWFsIGFjY2lkZW50YWwKISEhT05COiBUcmFuc2xhdGVkIGZyb20gYSBrcm4gZmlsZSBvbiAyMDI0LTAzLTAyIHZpYSBweUFNUEFDVAohISF0aXRsZTogQHtPVEx9\n"
          ]
        }
      ],
      "source": [
        "pyamp_piece.show(start=45)"
      ]
    }
  ],
  "metadata": {
    "kernelspec": {
      "display_name": "Python 3 (ipykernel)",
      "language": "python",
      "name": "python3"
    },
    "language_info": {
      "codemirror_mode": {
        "name": "ipython",
        "version": 3
      },
      "file_extension": ".py",
      "mimetype": "text/x-python",
      "name": "python",
      "nbconvert_exporter": "python",
      "pygments_lexer": "ipython3",
      "version": "3.10.11"
    },
    "colab": {
      "provenance": [],
      "include_colab_link": true
    }
  },
  "nbformat": 4,
  "nbformat_minor": 5
}