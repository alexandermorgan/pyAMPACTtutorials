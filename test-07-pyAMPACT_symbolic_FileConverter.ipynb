{
  "cells": [
    {
      "cell_type": "markdown",
      "metadata": {
        "id": "view-in-github",
        "colab_type": "text"
      },
      "source": [
        "<a href=\"https://colab.research.google.com/github/jcdevaney/pyAMPACTtutorials/blob/main/test-07-pyAMPACT_symbolic_FileConverter.ipynb\" target=\"_parent\"><img src=\"https://colab.research.google.com/assets/colab-badge.svg\" alt=\"Open In Colab\"/></a>"
      ]
    },
    {
      "cell_type": "markdown",
      "id": "f8471506-8929-470b-866f-c3e1e65482c2",
      "metadata": {
        "id": "f8471506-8929-470b-866f-c3e1e65482c2"
      },
      "source": [
        "<h1>Symbolic Processing File Conversion</h1>"
      ]
    },
    {
      "cell_type": "markdown",
      "id": "e715140d-e8a6-4a4d-baf4-071fbf1501c8",
      "metadata": {
        "id": "e715140d-e8a6-4a4d-baf4-071fbf1501c8"
      },
      "source": [
        "`1.` Click on the folder button on the left ⬅️ 📁\\\n",
        "`2.` Add the symbolic notation files (no images or pdfs) you want to convert to the `pyAMPACT/added_files` folder then run the next cell"
      ]
    },
    {
      "cell_type": "code",
      "execution_count": 1,
      "id": "f25e5c4c-69e1-4d32-b89e-958c61b96eff",
      "metadata": {
        "id": "f25e5c4c-69e1-4d32-b89e-958c61b96eff",
        "outputId": "d3cda9c7-7fa5-45c7-b900-74dfd91a1c51",
        "colab": {
          "base_uri": "https://localhost:8080/"
        }
      },
      "outputs": [
        {
          "output_type": "stream",
          "name": "stdout",
          "text": [
            "Cloning into 'pyAMPACTtutorials'...\n",
            "remote: Enumerating objects: 245, done.\u001b[K\n",
            "remote: Counting objects: 100% (68/68), done.\u001b[K\n",
            "remote: Compressing objects: 100% (54/54), done.\u001b[K\n",
            "remote: Total 245 (delta 47), reused 18 (delta 14), pack-reused 177\u001b[K\n",
            "Receiving objects: 100% (245/245), 17.35 MiB | 19.24 MiB/s, done.\n",
            "Resolving deltas: 100% (108/108), done.\n",
            "Cloning into 'pyAMPACT'...\n",
            "remote: Enumerating objects: 1236, done.\u001b[K\n",
            "remote: Counting objects: 100% (275/275), done.\u001b[K\n",
            "remote: Compressing objects: 100% (111/111), done.\u001b[K\n",
            "remote: Total 1236 (delta 198), reused 220 (delta 164), pack-reused 961\u001b[K\n",
            "Receiving objects: 100% (1236/1236), 22.21 MiB | 13.60 MiB/s, done.\n",
            "Resolving deltas: 100% (727/727), done.\n",
            "/content/pyAMPACT/pyampact\n",
            "Importing libraries...\n"
          ]
        }
      ],
      "source": [
        "!git clone https://github.com/jcdevaney/pyAMPACTtutorials.git\n",
        "!git clone https://github.com/jcdevaney/pyAMPACT.git\n",
        "%cd /content/pyAMPACT/pyampact/\n",
        "from IPython.utils import io\n",
        "print('Importing libraries...')\n",
        "with io.capture_output() as captured:\n",
        "    !pip install --upgrade pandas\n",
        "#    !pip install -i https://test.pypi.org/simple/ --no-deps pyampact==0.4.3\n",
        "#    import pyampact"
      ]
    },
    {
      "cell_type": "code",
      "source": [
        "import os\n",
        "contents = [file for file in os.listdir('/content/pyAMPACTtutorials/added_files') if file != 'README.txt'\n",
        "            and file.endswith(('krn', 'xml', 'mei', 'mxl', 'musicxml', 'mid', 'midi', 'abc', 'txt'))]\n",
        "if not len(contents):\n",
        "    print('\\n*** No valid file types detected. Please add the symbolic music notation \\n\\\n",
        "files you want to convert to kern or MEI to the added_files folder.')\n",
        "else:\n",
        "    print('Found these files:', *contents, sep='\\n')"
      ],
      "metadata": {
        "id": "qnAEXp01zrAm",
        "outputId": "a748fef2-835e-482d-c5f2-10df9c191961",
        "colab": {
          "base_uri": "https://localhost:8080/"
        }
      },
      "id": "qnAEXp01zrAm",
      "execution_count": 2,
      "outputs": [
        {
          "output_type": "stream",
          "name": "stdout",
          "text": [
            "Found these files:\n",
            "Auld_Lang_Syne.mid\n"
          ]
        }
      ]
    },
    {
      "cell_type": "markdown",
      "id": "d0a2ef71-9945-491d-987e-e76c0d6645d4",
      "metadata": {
        "id": "d0a2ef71-9945-491d-987e-e76c0d6645d4"
      },
      "source": [
        "`3a.` Run the next cell to convert the file or files to kern:"
      ]
    },
    {
      "cell_type": "code",
      "execution_count": 3,
      "id": "a73c926a-075b-4692-8eb9-dde4d11b9938",
      "metadata": {
        "id": "a73c926a-075b-4692-8eb9-dde4d11b9938",
        "outputId": "06c89d16-78d4-46e0-dc6b-624f9ca58405",
        "colab": {
          "base_uri": "https://localhost:8080/"
        }
      },
      "outputs": [
        {
          "output_type": "stream",
          "name": "stderr",
          "text": [
            "/content/pyAMPACT/pyampact/script.py:346: FutureWarning: DataFrame.applymap has been deprecated. Use DataFrame.map instead.\n",
            "  dur = df.applymap(lambda cell: round(float(cell.quarterLength), 5), na_action='ignore')\n",
            "/content/pyAMPACT/pyampact/script.py:1395: FutureWarning: DataFrame.applymap has been deprecated. Use DataFrame.map instead.\n",
            "  me = _me.astype('string').applymap(lambda cell: '=' + cell + '-' if cell == '0' else '=' + cell, na_action='ignore')\n",
            "/content/pyAMPACT/pyampact/script.py:1050: FutureWarning: DataFrame.applymap has been deprecated. Use DataFrame.map instead.\n",
            "  self._analyses['kernNotes'] = self._parts(True, True).applymap(self._kernNRCHelper, na_action='ignore')\n",
            "/content/pyAMPACT/pyampact/script.py:578: FutureWarning: DataFrame.applymap has been deprecated. Use DataFrame.map instead.\n",
            "  self._analyses['lyrics'] = self._parts().applymap(lambda cell: cell.lyric if hasattr(cell, 'lyric') else np.nan, na_action='ignore').dropna(how='all')\n",
            "/content/pyAMPACT/pyampact/script.py:1443: FutureWarning: Setting an item of incompatible dtype is deprecated and will raise an error in a future version of pandas. Value '==' has dtype incompatible with int64, please explicitly cast to a compatible dtype first.\n",
            "  ba.loc[self.score.highestTime, :] = '=='\n",
            "/content/pyAMPACT/pyampact/script.py:629: FutureWarning: DataFrame.applymap has been deprecated. Use DataFrame.map instead.\n",
            "  self._analyses['clefs'] = clefs.applymap(self._clefHelper, na_action='ignore')\n",
            "/content/pyAMPACT/pyampact/script.py:810: FutureWarning: DataFrame.applymap has been deprecated. Use DataFrame.map instead.\n",
            "  df = '*k[' + df.applymap(lambda ky: ''.join([_note.name for _note in ky.alteredPitches]).lower(), na_action='ignore') + ']'\n"
          ]
        }
      ],
      "source": [
        "from script import Score\n",
        "contents = [file for file in os.listdir('/content/pyAMPACTtutorials/added_files') if file != 'README.txt'\n",
        "            and file.endswith(('krn', 'xml', 'mei', 'mxl', 'musicxml', 'mid', 'midi', 'abc', 'txt'))]\n",
        "for file in contents:\n",
        "    score = Score(f'/content/pyAMPACTtutorials/added_files/{file}')\n",
        "    #score.toKern(file.rsplit('.', 1)[0])\n",
        "    score.toKern('/content/pyAMPACTtutorials/output_files/' + file.rsplit('.', 1)[0])"
      ]
    },
    {
      "cell_type": "markdown",
      "id": "c8da2a14-1e53-4b0f-9f42-633d46af1856",
      "metadata": {
        "id": "c8da2a14-1e53-4b0f-9f42-633d46af1856"
      },
      "source": [
        "`3b.` Run the next cell to convert the files to MEI"
      ]
    },
    {
      "cell_type": "code",
      "execution_count": 4,
      "id": "e0ac8d7e-a737-42d4-a9f9-78760b6fd801",
      "metadata": {
        "id": "e0ac8d7e-a737-42d4-a9f9-78760b6fd801",
        "outputId": "93e65d65-92a6-4f9e-fe97-1f1a0a3735c7",
        "colab": {
          "base_uri": "https://localhost:8080/",
          "height": 231
        }
      },
      "outputs": [
        {
          "output_type": "stream",
          "name": "stderr",
          "text": [
            "/content/pyAMPACT/pyampact/script.py:346: FutureWarning: DataFrame.applymap has been deprecated. Use DataFrame.map instead.\n",
            "  dur = df.applymap(lambda cell: round(float(cell.quarterLength), 5), na_action='ignore')\n"
          ]
        },
        {
          "output_type": "error",
          "ename": "AttributeError",
          "evalue": "'Score' object has no attribute 'toMEI'",
          "traceback": [
            "\u001b[0;31m---------------------------------------------------------------------------\u001b[0m",
            "\u001b[0;31mAttributeError\u001b[0m                            Traceback (most recent call last)",
            "\u001b[0;32m<ipython-input-4-58685572dc13>\u001b[0m in \u001b[0;36m<cell line: 3>\u001b[0;34m()\u001b[0m\n\u001b[1;32m      4\u001b[0m     \u001b[0mscore\u001b[0m \u001b[0;34m=\u001b[0m \u001b[0mScore\u001b[0m\u001b[0;34m(\u001b[0m\u001b[0;34mf'/content/pyAMPACTtutorials/added_files/{file}'\u001b[0m\u001b[0;34m)\u001b[0m\u001b[0;34m\u001b[0m\u001b[0;34m\u001b[0m\u001b[0m\n\u001b[1;32m      5\u001b[0m     \u001b[0;31m#score.toMEI(file.rsplit('.', 1)[0])\u001b[0m\u001b[0;34m\u001b[0m\u001b[0;34m\u001b[0m\u001b[0m\n\u001b[0;32m----> 6\u001b[0;31m     \u001b[0mscore\u001b[0m\u001b[0;34m.\u001b[0m\u001b[0mtoMEI\u001b[0m\u001b[0;34m(\u001b[0m\u001b[0;34m'/content/pyAMPACTtutorials/output_files'\u001b[0m \u001b[0;34m+\u001b[0m \u001b[0mfile\u001b[0m\u001b[0;34m.\u001b[0m\u001b[0mrsplit\u001b[0m\u001b[0;34m(\u001b[0m\u001b[0;34m'.'\u001b[0m\u001b[0;34m,\u001b[0m \u001b[0;36m1\u001b[0m\u001b[0;34m)\u001b[0m\u001b[0;34m[\u001b[0m\u001b[0;36m0\u001b[0m\u001b[0;34m]\u001b[0m\u001b[0;34m)\u001b[0m\u001b[0;34m\u001b[0m\u001b[0;34m\u001b[0m\u001b[0m\n\u001b[0m",
            "\u001b[0;31mAttributeError\u001b[0m: 'Score' object has no attribute 'toMEI'"
          ]
        }
      ],
      "source": [
        "contents = [file for file in os.listdir('/content/pyAMPACTtutorials/added_files') if file != 'README.txt'\n",
        "            and file.endswith(('krn', 'xml', 'mei', 'mxl', 'musicxml', 'mid', 'midi', 'abc', 'txt'))]\n",
        "for file in contents:\n",
        "    score = Score(f'/content/pyAMPACTtutorials/added_files/{file}')\n",
        "    #score.toMEI(file.rsplit('.', 1)[0])\n",
        "    score.toMEI('/content/pyAMPACTtutorials/output_files' + file.rsplit('.', 1)[0])\n"
      ]
    },
    {
      "cell_type": "markdown",
      "id": "df845024-bd1c-4ec2-bf9e-f3d797230d46",
      "metadata": {
        "id": "df845024-bd1c-4ec2-bf9e-f3d797230d46"
      },
      "source": [
        "`4` Download your converted files from the `pyAMPACT/output_files` folder on the left ⬅️ 📁\\\n",
        "They will have the same filename but with a `.krn` or `.mei.xml` extension."
      ]
    }
  ],
  "metadata": {
    "colab": {
      "provenance": [],
      "include_colab_link": true
    },
    "kernelspec": {
      "display_name": "Python 3 (ipykernel)",
      "language": "python",
      "name": "python3"
    },
    "language_info": {
      "codemirror_mode": {
        "name": "ipython",
        "version": 3
      },
      "file_extension": ".py",
      "mimetype": "text/x-python",
      "name": "python",
      "nbconvert_exporter": "python",
      "pygments_lexer": "ipython3",
      "version": "3.10.11"
    }
  },
  "nbformat": 4,
  "nbformat_minor": 5
}